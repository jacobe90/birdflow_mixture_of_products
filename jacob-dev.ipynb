{
 "cells": [
  {
   "cell_type": "code",
   "execution_count": 1,
   "id": "6fa9ba86",
   "metadata": {},
   "outputs": [],
   "source": [
    "# Goals (6/30):\n",
    "# - understand specfics of algorithms for computing single-timestep and pairwise marginals from a markov chain\n",
    "# - go through the code closely, figure out how the calculation of these marginals is implemented in model_forward (using haiku)\n",
    "\n"
   ]
  },
  {
   "cell_type": "code",
   "execution_count": 18,
   "id": "10b2aef5",
   "metadata": {},
   "outputs": [
    {
     "data": {
      "text/plain": [
       "'\\nhk.transform(f(args)) => (init(args) => params) and (apply(params, args) => output) functions\\n\\n- see https://dm-haiku.readthedocs.io/en/latest/api.html#haiku.transform\\n\\n- \\n'"
      ]
     },
     "execution_count": 18,
     "metadata": {},
     "output_type": "execute_result"
    }
   ],
   "source": [
    "# important haiku functions\n",
    "\n",
    "\"\"\"\n",
    "hk.transform(f(args)) => (init(args) => params) and (apply(params, args) => output) functions\n",
    "\n",
    "- see https://dm-haiku.readthedocs.io/en/latest/api.html#haiku.transform\n",
    "\n",
    "hk.get_parameter\n",
    "- either initializes or reuses a parameter for a given transformed function. depends on whether we are calling the \n",
    "init or the apply\n",
    "\"\"\""
   ]
  },
  {
   "cell_type": "code",
   "execution_count": 52,
   "id": "93dfbfaf",
   "metadata": {},
   "outputs": [],
   "source": [
    "# the model\n",
    "import haiku as hk\n",
    "\n",
    "from jax.nn import softmax\n",
    "import jax.numpy as jnp\n",
    "from jax.random import categorical\n",
    "\n",
    "\n",
    "class InitialLoc(hk.Module):\n",
    "    def __init__(self, cells):\n",
    "        super().__init__(name='Initial_Params')\n",
    "        self.cells = cells\n",
    "        \n",
    "    \n",
    "    def __call__(self):\n",
    "        z0 = hk.get_parameter(\n",
    "            'z0',\n",
    "            (self.cells,),\n",
    "            #init=jnp.zeros,\n",
    "            init=hk.initializers.RandomNormal(),\n",
    "            dtype = 'float32'\n",
    "        )\n",
    "        return softmax(z0)\n",
    "\n",
    "\n",
    "class FlowBlock(hk.Module):\n",
    "    def __init__(self, cells1, cells2, week_num=None):\n",
    "        if week_num:\n",
    "            name = f'Week_{week_num}'\n",
    "        else:\n",
    "            name = 'transition_block'\n",
    "        super().__init__(name=name)\n",
    "        self.cells1 = cells1\n",
    "        self.cells2 = cells2\n",
    "        \n",
    "        \n",
    "    def __call__(self, last_week):\n",
    "        z = hk.get_parameter(\n",
    "            'z',\n",
    "            (self.cells1, self.cells2),\n",
    "            #init=jnp.zeros,\n",
    "            init=hk.initializers.RandomNormal(),\n",
    "            dtype = 'float32'\n",
    "        )\n",
    "        \n",
    "        trans_prop = softmax(z, axis=1)\n",
    "        flow = trans_prop * last_week.reshape(-1, 1)\n",
    "        return flow\n",
    "    \n",
    "\n",
    "class FlowModel(hk.Module):\n",
    "    def __init__(self, cells, num_weeks, name='Flow_Model'):\n",
    "        super().__init__(name=name)\n",
    "        self.num_weeks = num_weeks\n",
    "        self.cells = cells\n",
    "        \n",
    "        \n",
    "    def __call__(self):\n",
    "        d0 = InitialLoc(self.cells[0])()\n",
    "        d = d0\n",
    "        flow_amounts = []\n",
    "        for week in range(self.num_weeks - 1):\n",
    "            flow = FlowBlock(self.cells[week], self.cells[week + 1], week_num=week + 1)(d)\n",
    "            flow_amounts.append(flow)\n",
    "            d = flow.sum(axis=0)\n",
    "        return (d0, flow_amounts)\n",
    "\n",
    "def predict(cells, weeks):\n",
    "    model = FlowModel(cells, weeks)\n",
    "    return model()\n",
    "\n",
    "model_forward = hk.transform(predict)"
   ]
  },
  {
   "cell_type": "code",
   "execution_count": 53,
   "id": "ba855e45",
   "metadata": {},
   "outputs": [
    {
     "name": "stdout",
     "output_type": "stream",
     "text": [
      "{'Flow_Model/Initial_Params': {'z0': Array([-0.5936502 , -0.03086448], dtype=float32)}, 'Flow_Model/Week_1': {'z': Array([[-0.3210647 , -0.42314035],\n",
      "       [-0.40206048,  0.05655674]], dtype=float32)}, 'Flow_Model/Week_2': {'z': Array([[ 0.28132653,  0.35250533],\n",
      "       [-0.60869765,  0.18230876]], dtype=float32)}, 'Flow_Model/Week_3': {'z': Array([[-0.49886376, -4.3779397 ],\n",
      "       [ 1.6097612 , -1.3355856 ]], dtype=float32)}, 'Flow_Model/Week_4': {'z': Array([[ 0.4312313 , -0.9348354 ],\n",
      "       [-0.92259514,  0.61290187]], dtype=float32)}}\n"
     ]
    }
   ],
   "source": [
    "key = hk.PRNGSequence(17)\n",
    "params = model_forward.init(next(key), [2]*5, 5)\n",
    "print(params)"
   ]
  },
  {
   "cell_type": "code",
   "execution_count": 41,
   "id": "a5d1336f",
   "metadata": {
    "scrolled": true
   },
   "outputs": [
    {
     "name": "stdout",
     "output_type": "stream",
     "text": [
      "[0.96152234 0.03847763]\n"
     ]
    }
   ],
   "source": [
    "initial, pairwise_marginals = model_forward.apply(params, None, [2]*5, 5)\n",
    "print(pairwise_marginals[2].sum(axis=0))"
   ]
  },
  {
   "cell_type": "code",
   "execution_count": 93,
   "id": "f68885c4",
   "metadata": {},
   "outputs": [],
   "source": [
    "# mixture of products model\n",
    "import haiku as hk\n",
    "from jax.nn import softmax\n",
    "import jax.numpy as jnp\n",
    "from jax.random import categorical\n",
    "\n",
    "class Product(hk.Module):\n",
    "    def __init__(self, cells, idx):\n",
    "        super().__init__(name=f\"Product{idx}\")\n",
    "        self.cells = cells\n",
    "    \n",
    "    def __call__(self, t):\n",
    "        weekly_marginal = hk.get_parameter(\n",
    "            f'week_{t}',\n",
    "            (self.cells[t],),\n",
    "            init=hk.initializers.RandomNormal(),\n",
    "            dtype='float32'\n",
    "        )\n",
    "        \n",
    "        return softmax(weekly_marginal, axis=0)\n",
    "\n",
    "\n",
    "class MixtureOfProductsModel(hk.Module):\n",
    "    def __init__(self, cells, weeks, n, name=\"MixtureOfProductsModel\"):\n",
    "        super().__init__(name=name)\n",
    "        self.weeks = weeks\n",
    "        self.cells = cells\n",
    "        self.n = n\n",
    "    \n",
    "    def get_marginal(self, products, weights, tsteps):\n",
    "        marginal = 0 \n",
    "        for k in range(self.n):\n",
    "            prod_k_marginal = jnp.asarray(1)\n",
    "            for tstep in tsteps:\n",
    "                prod_k_marginal = jnp.tensordot(prod_k_marginal, products[k](tstep), axes=0)\n",
    "            marginal += weights[k] * prod_k_marginal\n",
    "        return marginal\n",
    "        \n",
    "    def __call__(self):\n",
    "        # initialize weights\n",
    "        weights = hk.get_parameter(\n",
    "            'weights',\n",
    "            (self.n,),\n",
    "            init=hk.initializers.RandomNormal(),\n",
    "            dtype='float32'\n",
    "        )\n",
    "        weights = softmax(weights, axis=0)\n",
    "        \n",
    "        # initialize product distributions\n",
    "        products = []\n",
    "        for k in range(self.n):\n",
    "            products.append(Product(self.cells, k))\n",
    "        \n",
    "        single_tstep_marginals = [self.get_marginal(products, weights, [t]) for t in range(self.weeks)]\n",
    "        pairwise_marginals = [self.get_marginal(products, weights, [t, t+1]) for t in range(self.weeks-1)]\n",
    "        \n",
    "        return single_tstep_marginals, pairwise_marginals\n",
    "\n",
    "def predict(cells, weeks, n):\n",
    "    model = MixtureOfProductsModel(cells, weeks, n)\n",
    "    return model()\n",
    "\n",
    "\n",
    "model_forward = hk.transform(predict)"
   ]
  },
  {
   "cell_type": "code",
   "execution_count": 94,
   "id": "c76f6a0c",
   "metadata": {},
   "outputs": [],
   "source": [
    "# loss function for mixture of products\n",
    "N_PRODUCTS = 10\n",
    "def loss_fn(params, cells, true_densities, d_matrices, obs_weight, dist_weight, ent_weight):\n",
    "    weeks = len(true_densities)\n",
    "    pred = model_forward.apply(params, None, cells, weeks, N_PRODUCTS)\n",
    "    pred_densities, flows = pred\n",
    "    obs = obs_loss(pred_densities, true_densities)\n",
    "    dist = distance_loss(flows, d_matrices)\n",
    "    ent = ent_loss(flows, pred_densities)\n",
    "    \n",
    "    return (obs_weight * obs) + (dist_weight * dist) + (-1 * ent_weight * ent), (obs, dist, ent)\n",
    "\n",
    "def obs_loss(pred_densities, true_densities):\n",
    "    obs = 0\n",
    "    for pred, true in zip(pred_densities, true_densities):\n",
    "        residual = true - pred\n",
    "        obs += jnp.sum(jnp.square(residual))\n",
    "    return obs\n",
    "\n",
    "def distance_loss(flows, d_matrices):\n",
    "    dist = 0\n",
    "    for flow, d_matrix in zip(flows, d_matrices):\n",
    "        dist += jnp.sum(flow * d_matrix)\n",
    "    return dist\n",
    "\n",
    "def entropy(probs):\n",
    "    logp = jnp.log(probs)\n",
    "    ent = probs * logp\n",
    "    h = -1 * jnp.sum(ent)\n",
    "    return h\n",
    "\n",
    "def ent_loss(probs, flows):\n",
    "    ent = 0\n",
    "    for p in probs:\n",
    "        ent += entropy(p)\n",
    "    for f in flows:\n",
    "        ent -= entropy(f)\n",
    "    return ent\n",
    "\n"
   ]
  },
  {
   "cell_type": "code",
   "execution_count": 103,
   "id": "e9dd5d05",
   "metadata": {},
   "outputs": [
    {
     "data": {
      "text/plain": [
       "(Array(1.2944885, dtype=float32),\n",
       " (Array(0.07623632, dtype=float32),\n",
       "  Array(125.34545, dtype=float32),\n",
       "  Array(352.02237, dtype=float32)))"
      ]
     },
     "execution_count": 103,
     "metadata": {},
     "output_type": "execute_result"
    }
   ],
   "source": [
    "# see if we can compute the loss function! (we can!!)\n",
    "\n",
    "import os\n",
    "import h5py\n",
    "import numpy as np\n",
    "import sys\n",
    "sys.path.insert(1, '/Users/jacobepstein/Documents/work/BirdFlowPy/')\n",
    "from flow_model_training import Datatuple, mask_input\n",
    "\n",
    "# load true_densities from ebird_st\n",
    "obs_weight = 1\n",
    "ent_weight = 1e-4\n",
    "dist_weight = 1e-2\n",
    "dist_pow = 0.4\n",
    "hdf_src = os.path.join(\"/Users/jacobepstein/Documents/work/BirdFlowModels\", \"amewoo_2021_48km.hdf5\")\n",
    "file = h5py.File(hdf_src, 'r')\n",
    "true_densities = np.asarray(file['distr']).T\n",
    "\n",
    "# get weeks / total cells\n",
    "weeks = true_densities.shape[0]\n",
    "total_cells = true_densities.shape[1]\n",
    "\n",
    "# compute distance matrices, cells array\n",
    "distance_vector = np.asarray(file['distances'])**dist_pow\n",
    "distance_vector *= 1 / (100**dist_pow)\n",
    "masks = np.asarray(file['geom']['dynamic_mask']).T.astype(bool)\n",
    "dtuple = Datatuple(weeks, total_cells, distance_vector, masks)\n",
    "distance_matrices, masked_densities = mask_input(true_densities, dtuple)\n",
    "cells = [d.shape[0] for d in masked_densities]\n",
    "\n",
    "# initialize model\n",
    "key = hk.PRNGSequence(17)\n",
    "params = model_forward.init(next(key), cells, weeks, N_PRODUCTS)\n",
    "loss_fn(params, cells, masked_densities, distance_matrices, obs_weight, dist_weight, ent_weight)"
   ]
  },
  {
   "cell_type": "code",
   "execution_count": 101,
   "id": "ead84207",
   "metadata": {},
   "outputs": [
    {
     "name": "stdout",
     "output_type": "stream",
     "text": [
      "[675, 702, 749, 784, 879, 954, 1055, 1114, 1133, 1170, 1313, 1438, 1566, 1645, 1631, 1616, 1625, 1602, 1581, 1537, 1474, 1360, 1276, 1269, 1095, 1151, 1307, 1279, 1127, 1156, 1103, 1097, 1022, 1012, 1034, 1042, 1174, 1297, 1241, 1303, 1418, 1608, 1735, 1661, 1438, 1063, 907, 765, 754, 696, 689, 693, 675]\n",
      "[675, 702, 749, 784, 879, 954, 1055, 1114, 1133, 1170, 1313, 1438, 1566, 1645, 1631, 1616, 1625, 1602, 1581, 1537, 1474, 1360, 1276, 1269, 1095, 1151, 1307, 1279, 1127, 1156, 1103, 1097, 1022, 1012, 1034, 1042, 1174, 1297, 1241, 1303, 1418, 1608, 1735, 1661, 1438, 1063, 907, 765, 754, 696, 689, 693, 675]\n"
     ]
    }
   ],
   "source": [
    "pred_densities, flows = model_forward.apply(params, None, cells, weeks, N_PRODUCTS)\n",
    "print(cells)\n",
    "print(list(map(lambda arr: len(arr), pred_densities)))"
   ]
  }
 ],
 "metadata": {
  "kernelspec": {
   "display_name": "Python 3 (ipykernel)",
   "language": "python",
   "name": "python3"
  },
  "language_info": {
   "codemirror_mode": {
    "name": "ipython",
    "version": 3
   },
   "file_extension": ".py",
   "mimetype": "text/x-python",
   "name": "python",
   "nbconvert_exporter": "python",
   "pygments_lexer": "ipython3",
   "version": "3.10.9"
  }
 },
 "nbformat": 4,
 "nbformat_minor": 5
}
