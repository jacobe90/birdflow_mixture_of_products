{
 "cells": [
  {
   "cell_type": "code",
   "execution_count": 1,
   "id": "f14c9b0c",
   "metadata": {},
   "outputs": [
    {
     "data": {
      "text/plain": [
       "1735"
      ]
     },
     "execution_count": 1,
     "metadata": {},
     "output_type": "execute_result"
    }
   ],
   "source": [
    "import h5py\n",
    "import numpy as np\n",
    "from mixture_of_products_model_training import Datatuple, mask_input, pad_input\n",
    "import optax\n",
    "import haiku as hk\n",
    "hdf_src = '/Users/jacobepstein/Documents/work/BirdFlowModels/amewoo_2021_48km.hdf5'\n",
    "file = h5py.File(hdf_src, 'r')\n",
    "\n",
    "true_densities = np.asarray(file['distr']).T\n",
    "\n",
    "weeks = true_densities.shape[0]\n",
    "total_cells = true_densities.shape[1]\n",
    "\n",
    "distance_vector = np.asarray(file['distances'])**0.5\n",
    "distance_vector *= 1 / (100**0.5)\n",
    "masks = np.asarray(file['geom']['dynamic_mask']).T.astype(bool)\n",
    "\n",
    "dtuple = Datatuple(weeks, total_cells, distance_vector, masks)\n",
    "distance_matrices, masked_densities = mask_input(true_densities, dtuple)\n",
    "cells = [d.shape[0] for d in masked_densities]\n",
    "nan_mask = np.asarray(file['geom']['mask']).flatten().astype(bool)\n",
    "distance_matrices, masked_densities = pad_input(distance_matrices, masked_densities, cells)\n",
    "# get x / y dimensions of the grid\n",
    "x_dim = int(np.asarray(file['geom']['ncol']))\n",
    "y_dim = int(np.asarray(file['geom']['nrow']))\n",
    "\n",
    "# Get the random seed and optimizer\n",
    "key = hk.PRNGSequence(17)\n",
    "optimizer = optax.adam(0.1)\n",
    "max(cells)"
   ]
  },
  {
   "cell_type": "code",
   "execution_count": 3,
   "id": "4f75ee3a",
   "metadata": {},
   "outputs": [],
   "source": [
    "import matplotlib.pyplot as plt\n",
    "from mixture_of_products_from_sampled_routes import get_weekly_marginal\n",
    "from jax.nn import softmax\n",
    "\n",
    "def draw_box_marginal(cell, week, box_dim, masks, nan_mask, x_dim, y_dim, cells, conversion_dict):\n",
    "    marginal = softmax(get_weekly_marginal(cell, week, cells, masks, nan_mask, x_dim, y_dim, box_dim, conversion_dict))\n",
    "    medium_grid = np.empty(len(masks[0]))\n",
    "    medium_grid.fill(0)\n",
    "    medium_grid[masks[week]] = marginal\n",
    "    big_grid = np.empty(len(nan_mask))\n",
    "    big_grid.fill(np.nan)\n",
    "    big_grid[nan_mask] = medium_grid\n",
    "    big_grid = big_grid.reshape(y_dim, x_dim)\n",
    "    plt.imshow(big_grid, cmap='winter')\n",
    "    plt.show()"
   ]
  },
  {
   "cell_type": "code",
   "execution_count": 21,
   "id": "31520e40",
   "metadata": {},
   "outputs": [
    {
     "data": {
      "image/png": "[encoded data removed]",
      "text/plain": [
       "<Figure size 640x480 with 1 Axes>"
      ]
     },
     "metadata": {},
     "output_type": "display_data"
    }
   ],
   "source": [
    "from mixture_of_products_from_sampled_routes import get_overall_to_weekly_mask_conversion_dict\n",
    "week = 0\n",
    "conversion_dict = get_overall_to_weekly_mask_conversion_dict(nan_mask, masks[week])\n",
    "draw_box_marginal(50, week, 1, masks, nan_mask, x_dim, y_dim, cells, conversion_dict)"
   ]
  },
  {
   "cell_type": "code",
   "execution_count": null,
   "id": "6c862251",
   "metadata": {},
   "outputs": [],
   "source": [
    "from mixture_of_products_from_sampled_routes import get_box\n",
    "get_box(200, 0, masks, nan_mask, x_dim, y_dim, 5)\n"
   ]
  },
  {
   "cell_type": "code",
   "execution_count": null,
   "id": "8fe14067",
   "metadata": {},
   "outputs": [],
   "source": [
    "def get_index_in_bigger_grid(cell, mask):\n",
    "    true_count = -1\n",
    "    new_cell = None\n",
    "    for i, b in enumerate(mask):\n",
    "        if b:\n",
    "            true_count += 1\n",
    "        if true_count == cell:\n",
    "            new_cell = i\n",
    "            break\n",
    "    return new_cell\n",
    "\n",
    "\"\"\"\n",
    "cell: cell in grid of size len(mask)\n",
    "mask: boolean array where true cells correspond to cells of a smaller grid\n",
    "Returns: None if mask[cell] == False, index of cell in smaller grid (equals the number of True values in the mask before index cell)\n",
    "\"\"\"\n",
    "def get_index_in_smaller_grid(cell,mask):\n",
    "    true_idx = -1\n",
    "    if cell == None:\n",
    "        return None\n",
    "    if not mask[cell]:\n",
    "        return None\n",
    "    new_cell = None\n",
    "    for i, b in enumerate(mask):\n",
    "        if b:\n",
    "            true_idx += 1\n",
    "        if i == cell:\n",
    "            new_cell = true_idx\n",
    "            break\n",
    "    return new_cell\n",
    "\n",
    "def cell_to_xy(cell, x_dim, y_dim):\n",
    "    x = cell % x_dim\n",
    "    y = int(cell / x_dim)\n",
    "    return x, y\n",
    "    \n",
    "def xy_to_cell(x, y, x_dim, y_dim):\n",
    "    cell = y * x_dim + x\n",
    "    return cell\n",
    "    \n",
    "\"\"\"\n",
    "cell: grid cell index (center of the box)\n",
    "week: week of the cell\n",
    "masks: list of dynamic masks (we care about masks[week])\n",
    "nan_mask: big mask used to eliminate oceans\n",
    "x_dim, y_dim: dimensions of the overall grid\n",
    "box_dim: number of cells from box center to edge (not counting the center)\n",
    "\n",
    "Returns: box, a dictionary of idx, coords pairs, where idx is a cell index for given week, coords is a tuple of the coordinates for that cell \n",
    "\"\"\"\n",
    "\n",
    "def get_box(cell, week, masks, nan_mask, x_dim, y_dim, box_dim):\n",
    "    # grid cell index in weekly grid -> grid cell index in medium grid -> grid cell index in big grid\n",
    "    medium_cell = get_index_in_bigger_grid(cell, masks[week])\n",
    "    big_cell = get_index_in_bigger_grid(medium_cell, nan_mask)\n",
    "    x_c, y_c = cell_to_xy(big_cell, x_dim, y_dim)\n",
    "    box = {}\n",
    "    for y in range(max(0,y_c-box_dim), min(y_dim, y_c+box_dim+1)):\n",
    "        for x in range(max(0,x_c-box_dim), min(x_dim, x_c+box_dim+1)):\n",
    "            # convert (x,y) in big grid -> cell in the big grid\n",
    "            big_xy_cell = xy_to_cell(x, y, x_dim, y_dim)\n",
    "            \n",
    "            # convert big_xy_cell back to a cell in the small grid for week\n",
    "            # store coordinates in box\n",
    "            small_xy_cell = get_index_in_smaller_grid(get_index_in_smaller_grid(big_xy_cell, nan_mask), masks[week])\n",
    "            if small_xy_cell != None:\n",
    "                box[small_xy_cell] = (x-x_c,y-y_c)\n",
    "    return box\n",
    "\n",
    "#print(get_index_in_smaller_grid(get_index_in_smaller_grid(1000, nan_mask), masks[0]))\n",
    "#list(map(lambda cell: len(get_box(cell, 0, masks, nan_mask, x_dim, y_dim, 10).keys()), range(cells[0])))\n",
    "#list(map(lambda cell: len(get_box(cell,0,masks,nan_mask,x_dim,y_dim,2)), list(range(cells[0]))))\n",
    "b = get_box(165,0,masks,nan_mask,x_dim,y_dim,1)\n",
    "b, len(b)"
   ]
  },
  {
   "cell_type": "code",
   "execution_count": null,
   "id": "9770e3ff",
   "metadata": {
    "scrolled": true
   },
   "outputs": [],
   "source": [
    "import numpy as np\n",
    "from scipy.stats import multivariate_normal\n",
    "from jax.nn import softmax\n",
    "import jax.numpy as jnp\n",
    "import math\n",
    "\"\"\"\n",
    "Arguments:\n",
    "box: the box to apply the mvn to\n",
    "week: the week of the marginal\n",
    "\n",
    "Returns: a marginal with zeroes everywhere outside of the indices given by box\n",
    "\"\"\"\n",
    "def get_weekly_marginal(box_center, week, cells, masks, nan_mask, x_dim, y_dim, box_dim):\n",
    "    box = get_box(box_center, week, masks, nan_mask, x_dim, y_dim, box_dim)\n",
    "    marginal = np.empty(cells[week])\n",
    "    marginal.fill(-50)\n",
    "    for idx, coords in box.items():\n",
    "        marginal[idx] = multivariate_normal.pdf(coords, mean=[0,0], cov=[[1, 0], [0, 1]])\n",
    "    return jnp.array(marginal)\n",
    "\n",
    "softmax(get_weekly_marginal(200, 1, cells, masks, nan_mask, x_dim, y_dim, 1))"
   ]
  },
  {
   "cell_type": "code",
   "execution_count": null,
   "id": "26adf1f9",
   "metadata": {},
   "outputs": [],
   "source": [
    "import matplotlib.pyplot as plt\n",
    "def draw_box(box, week, masks, nan_mask, x_dim, y_dim):\n",
    "    medium_grid = np.empty(len(masks[0]))\n",
    "    medium_grid.fill(0)\n",
    "    medium_grid[masks[week]] = masked_densities[week]\n",
    "    for cell in box.keys():\n",
    "        medium_cell_idx = get_index_in_bigger_grid(cell, masks[week])\n",
    "        medium_grid[medium_cell_idx] = 0.010\n",
    "    # convert everything to a big grid\n",
    "    big_grid = np.empty(len(nan_mask))\n",
    "    big_grid.fill(np.nan)\n",
    "    big_grid[nan_mask] = medium_grid\n",
    "    return big_grid.reshape(y_dim, x_dim)\n",
    "\n",
    "def draw_box_marginal(box, week, masks, nan_mask, x_dim, y_dim, cells):\n",
    "    marginal = softmax(get_weekly_marginal(box, week, cells))\n",
    "    medium_grid = np.empty(len(masks[0]))\n",
    "    medium_grid.fill(0)\n",
    "    medium_grid[masks[week]] = marginal\n",
    "    big_grid = np.empty(len(nan_mask))\n",
    "    big_grid.fill(np.nan)\n",
    "    big_grid[nan_mask] = medium_grid\n",
    "    big_grid = big_grid.reshape(y_dim, x_dim)\n",
    "    return big_grid"
   ]
  },
  {
   "cell_type": "code",
   "execution_count": null,
   "id": "f8d25a65",
   "metadata": {},
   "outputs": [],
   "source": [
    "for i in range(200, 500):\n",
    "    box = get_box(i, 0, masks, nan_mask, x_dim, y_dim, 1)\n",
    "    grid = draw_box_marginal(box, 0, masks, nan_mask, x_dim, y_dim, cells)\n",
    "    plt.imshow(grid, cmap='winter')\n",
    "    plt.title(f\"cell: {i}\")\n",
    "    plt.show()"
   ]
  },
  {
   "cell_type": "code",
   "execution_count": null,
   "id": "b81bc08c",
   "metadata": {},
   "outputs": [],
   "source": [
    "import pickle as pkl\n",
    "import haiku as hk\n",
    "\n",
    "from jax.nn import softmax\n",
    "import jax.numpy as jnp\n",
    "from jax.random import categorical\n",
    "\n",
    "    \n",
    "def sample_trajectory(rng_seq, flow_params, ipos=None, start=1, end=None):\n",
    "    if end:\n",
    "        end = end\n",
    "    else:\n",
    "        end = len(flow_params)\n",
    "            \n",
    "    if ipos:\n",
    "        pos = ipos\n",
    "    else:\n",
    "        init_p = flow_params['Flow_Model/Initial_Params']['z0']\n",
    "        pos = categorical(next(rng_seq), init_p)\n",
    "    \n",
    "    trajectory = [int(pos)]\n",
    "\n",
    "    for week in range(start, end):\n",
    "        trans_p = flow_params[f'Flow_Model/Week_{week}']['z'][pos, :]\n",
    "        pos = categorical(next(rng_seq), trans_p)\n",
    "        trajectory.append(int(pos))\n",
    "    return trajectory\n",
    "\n",
    "with open('../st_and_track_data_processing/amewoo_params_48_obs1.0_ent6e-06_dist0.025035_pow0.5.pkl', 'rb') as f:\n",
    "    markov_params = pkl.load(f)\n",
    "key = hk.PRNGSequence(42)\n",
    "\n",
    "n_traj = 20\n",
    "traj = [sample_trajectory(key, markov_params) for i in range(n_traj)]\n",
    "traj = np.array(traj)"
   ]
  },
  {
   "cell_type": "code",
   "execution_count": null,
   "id": "4a84e74f",
   "metadata": {
    "scrolled": true
   },
   "outputs": [],
   "source": [
    "len(traj), traj"
   ]
  },
  {
   "cell_type": "code",
   "execution_count": null,
   "id": "4764640e",
   "metadata": {},
   "outputs": [],
   "source": [
    "import jax.numpy as jnp\n",
    "\"\"\"\n",
    "Arguments:\n",
    "routes: An n x T array of sampled routes (n sampled routes of T timesteps)\n",
    "Returns:\n",
    "mixture of products parameters, each components corresponds to one of the routes\n",
    "\"\"\"\n",
    "def mop_from_routes(routes, cells, masks, nan_mask, x_dim, y_dim, box_dim):\n",
    "    n = routes.shape[0]\n",
    "    mop_params = {'MixtureOfProductsModel': {'weights': jnp.ones(n)}}\n",
    "    T = routes.shape[1]\n",
    "    for t in range(T):\n",
    "        week_t_components = jnp.empty((n, cells[t]))\n",
    "        for k in range(n):\n",
    "            week_t_components = week_t_components.at[k, :].set(get_weekly_marginal(routes[k][t], t, cells, masks, nan_mask, x_dim, y_dim, box_dim))\n",
    "        mop_params['MixtureOfProductsModel'][f'week_{t}'] = week_t_components\n",
    "    return mop_params\n",
    "\n",
    "params = mop_from_routes(traj, cells, masks, nan_mask, x_dim, y_dim, 1)"
   ]
  },
  {
   "cell_type": "code",
   "execution_count": null,
   "id": "3a39d230",
   "metadata": {},
   "outputs": [],
   "source": [
    "# plug params into the loss function\n",
    "from mixture_of_products_model_training import loss_fn\n",
    "\n",
    "loss_fn(params, cells, masked_densities, distance_matrices, 1, 0.025035, 6e-06, n_traj)"
   ]
  }
 ],
 "metadata": {
  "kernelspec": {
   "display_name": "Python 3 (ipykernel)",
   "language": "python",
   "name": "python3"
  },
  "language_info": {
   "codemirror_mode": {
    "name": "ipython",
    "version": 3
   },
   "file_extension": ".py",
   "mimetype": "text/x-python",
   "name": "python",
   "nbconvert_exporter": "python",
   "pygments_lexer": "ipython3",
   "version": "3.10.9"
  }
 },
 "nbformat": 4,
 "nbformat_minor": 5
}
