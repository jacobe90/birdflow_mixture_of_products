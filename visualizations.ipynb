{
 "cells": [
  {
   "cell_type": "code",
   "execution_count": null,
   "id": "6ae4ea77-5adc-4655-956c-a8dec3219d40",
   "metadata": {},
   "outputs": [],
   "source": [
    "import pickle\n",
    "with open('amewoo_mop_params_48_obs1.0_ent0.0001_dist0.01_pow0.4.pkl', 'rb') as f:\n",
    "    params = pickle.load(f)\n",
    "with open('amewoo_mop_losses_48_obs1.0_ent0.0001_dist0.01_pow0.4.pkl', 'rb') as f:\n",
    "    losses = pickle.load(f)"
   ]
  },
  {
   "cell_type": "code",
   "execution_count": null,
   "id": "41d50856-b5fc-490e-a43f-b4eed75274a7",
   "metadata": {},
   "outputs": [],
   "source": [
    "import numpy as np\n",
    "from matplotlib import pyplot as plt\n",
    "\n",
    "%matplotlib inline\n",
    "\n",
    "fig, ax = plt.subplots(1, 1, figsize=(8, 6))\n",
    "\n",
    "# plot the grid search results\n",
    "ax.plot(losses['total'], label='mixture of products loss')\n",
    "ax.legend(loc=\"upper right\")\n",
    "ax.set(\n",
    "    xlabel=f\"training steps\",\n",
    "    ylabel=f\"loss value\",\n",
    "    title=\"mixture of products training: ew=1e-4, dw=1e-2, dp=0.4, n=10\"\n",
    "    \n",
    ")\n",
    "plt.show()"
   ]
  }
 ],
 "metadata": {
  "kernelspec": {
   "display_name": "Python 3 (ipykernel)",
   "language": "python",
   "name": "python3"
  },
  "language_info": {
   "codemirror_mode": {
    "name": "ipython",
    "version": 3
   },
   "file_extension": ".py",
   "mimetype": "text/x-python",
   "name": "python",
   "nbconvert_exporter": "python",
   "pygments_lexer": "ipython3",
   "version": "3.10.9"
  }
 },
 "nbformat": 4,
 "nbformat_minor": 5
}
